{
 "cells": [
  {
   "cell_type": "markdown",
   "id": "d7728576",
   "metadata": {},
   "source": [
    "# *ML_ASSIGNMENT_01*"
   ]
  },
  {
   "cell_type": "code",
   "execution_count": 52,
   "id": "9bf94555",
   "metadata": {},
   "outputs": [],
   "source": [
    "# import libraries\n",
    "import pandas as pd\n",
    "import numpy as np\n",
    "import matplotlib.pyplot as plt\n",
    "import seaborn as sns\n",
    "from scipy import stats"
   ]
  },
  {
   "cell_type": "code",
   "execution_count": 2,
   "id": "26416e30",
   "metadata": {},
   "outputs": [],
   "source": [
    "#import data_set\n",
    "df= pd.read_csv(r'C:\\Users\\Sibtain Mughal\\Desktop\\ML_data_set.csv',encoding = 'latin-1')"
   ]
  },
  {
   "cell_type": "code",
   "execution_count": 3,
   "id": "be9b09ce",
   "metadata": {},
   "outputs": [
    {
     "data": {
      "text/html": [
       "<div>\n",
       "<style scoped>\n",
       "    .dataframe tbody tr th:only-of-type {\n",
       "        vertical-align: middle;\n",
       "    }\n",
       "\n",
       "    .dataframe tbody tr th {\n",
       "        vertical-align: top;\n",
       "    }\n",
       "\n",
       "    .dataframe thead th {\n",
       "        text-align: right;\n",
       "    }\n",
       "</style>\n",
       "<table border=\"1\" class=\"dataframe\">\n",
       "  <thead>\n",
       "    <tr style=\"text-align: right;\">\n",
       "      <th></th>\n",
       "      <th>Sales_in_thousands</th>\n",
       "      <th>__year_resale_value</th>\n",
       "      <th>Price_in_thousands</th>\n",
       "      <th>Engine_size</th>\n",
       "      <th>Horsepower</th>\n",
       "      <th>Wheelbase</th>\n",
       "      <th>Width</th>\n",
       "      <th>Length</th>\n",
       "      <th>Curb_weight</th>\n",
       "      <th>Fuel_capacity</th>\n",
       "      <th>Fuel_efficiency</th>\n",
       "      <th>Power_perf_factor</th>\n",
       "    </tr>\n",
       "  </thead>\n",
       "  <tbody>\n",
       "    <tr>\n",
       "      <th>count</th>\n",
       "      <td>157.000000</td>\n",
       "      <td>121.000000</td>\n",
       "      <td>155.000000</td>\n",
       "      <td>156.000000</td>\n",
       "      <td>156.000000</td>\n",
       "      <td>156.000000</td>\n",
       "      <td>156.000000</td>\n",
       "      <td>156.000000</td>\n",
       "      <td>155.000000</td>\n",
       "      <td>156.000000</td>\n",
       "      <td>154.000000</td>\n",
       "      <td>155.000000</td>\n",
       "    </tr>\n",
       "    <tr>\n",
       "      <th>mean</th>\n",
       "      <td>52.998076</td>\n",
       "      <td>18.072975</td>\n",
       "      <td>27.390755</td>\n",
       "      <td>3.060897</td>\n",
       "      <td>185.948718</td>\n",
       "      <td>107.487179</td>\n",
       "      <td>71.150000</td>\n",
       "      <td>187.343590</td>\n",
       "      <td>3.378026</td>\n",
       "      <td>17.951923</td>\n",
       "      <td>23.844156</td>\n",
       "      <td>77.043591</td>\n",
       "    </tr>\n",
       "    <tr>\n",
       "      <th>std</th>\n",
       "      <td>68.029422</td>\n",
       "      <td>11.453384</td>\n",
       "      <td>14.351653</td>\n",
       "      <td>1.044653</td>\n",
       "      <td>56.700321</td>\n",
       "      <td>7.641303</td>\n",
       "      <td>3.451872</td>\n",
       "      <td>13.431754</td>\n",
       "      <td>0.630502</td>\n",
       "      <td>3.887921</td>\n",
       "      <td>4.282706</td>\n",
       "      <td>25.142664</td>\n",
       "    </tr>\n",
       "    <tr>\n",
       "      <th>min</th>\n",
       "      <td>0.110000</td>\n",
       "      <td>5.160000</td>\n",
       "      <td>9.235000</td>\n",
       "      <td>1.000000</td>\n",
       "      <td>55.000000</td>\n",
       "      <td>92.600000</td>\n",
       "      <td>62.600000</td>\n",
       "      <td>149.400000</td>\n",
       "      <td>1.895000</td>\n",
       "      <td>10.300000</td>\n",
       "      <td>15.000000</td>\n",
       "      <td>23.276272</td>\n",
       "    </tr>\n",
       "    <tr>\n",
       "      <th>25%</th>\n",
       "      <td>14.114000</td>\n",
       "      <td>11.260000</td>\n",
       "      <td>18.017500</td>\n",
       "      <td>2.300000</td>\n",
       "      <td>149.500000</td>\n",
       "      <td>103.000000</td>\n",
       "      <td>68.400000</td>\n",
       "      <td>177.575000</td>\n",
       "      <td>2.971000</td>\n",
       "      <td>15.800000</td>\n",
       "      <td>21.000000</td>\n",
       "      <td>60.407707</td>\n",
       "    </tr>\n",
       "    <tr>\n",
       "      <th>50%</th>\n",
       "      <td>29.450000</td>\n",
       "      <td>14.180000</td>\n",
       "      <td>22.799000</td>\n",
       "      <td>3.000000</td>\n",
       "      <td>177.500000</td>\n",
       "      <td>107.000000</td>\n",
       "      <td>70.550000</td>\n",
       "      <td>187.900000</td>\n",
       "      <td>3.342000</td>\n",
       "      <td>17.200000</td>\n",
       "      <td>24.000000</td>\n",
       "      <td>72.030917</td>\n",
       "    </tr>\n",
       "    <tr>\n",
       "      <th>75%</th>\n",
       "      <td>67.956000</td>\n",
       "      <td>19.875000</td>\n",
       "      <td>31.947500</td>\n",
       "      <td>3.575000</td>\n",
       "      <td>215.000000</td>\n",
       "      <td>112.200000</td>\n",
       "      <td>73.425000</td>\n",
       "      <td>196.125000</td>\n",
       "      <td>3.799500</td>\n",
       "      <td>19.575000</td>\n",
       "      <td>26.000000</td>\n",
       "      <td>89.414878</td>\n",
       "    </tr>\n",
       "    <tr>\n",
       "      <th>max</th>\n",
       "      <td>540.561000</td>\n",
       "      <td>67.550000</td>\n",
       "      <td>85.500000</td>\n",
       "      <td>8.000000</td>\n",
       "      <td>450.000000</td>\n",
       "      <td>138.700000</td>\n",
       "      <td>79.900000</td>\n",
       "      <td>224.500000</td>\n",
       "      <td>5.572000</td>\n",
       "      <td>32.000000</td>\n",
       "      <td>45.000000</td>\n",
       "      <td>188.144323</td>\n",
       "    </tr>\n",
       "  </tbody>\n",
       "</table>\n",
       "</div>"
      ],
      "text/plain": [
       "       Sales_in_thousands  __year_resale_value  Price_in_thousands  \\\n",
       "count          157.000000           121.000000          155.000000   \n",
       "mean            52.998076            18.072975           27.390755   \n",
       "std             68.029422            11.453384           14.351653   \n",
       "min              0.110000             5.160000            9.235000   \n",
       "25%             14.114000            11.260000           18.017500   \n",
       "50%             29.450000            14.180000           22.799000   \n",
       "75%             67.956000            19.875000           31.947500   \n",
       "max            540.561000            67.550000           85.500000   \n",
       "\n",
       "       Engine_size  Horsepower   Wheelbase       Width      Length  \\\n",
       "count   156.000000  156.000000  156.000000  156.000000  156.000000   \n",
       "mean      3.060897  185.948718  107.487179   71.150000  187.343590   \n",
       "std       1.044653   56.700321    7.641303    3.451872   13.431754   \n",
       "min       1.000000   55.000000   92.600000   62.600000  149.400000   \n",
       "25%       2.300000  149.500000  103.000000   68.400000  177.575000   \n",
       "50%       3.000000  177.500000  107.000000   70.550000  187.900000   \n",
       "75%       3.575000  215.000000  112.200000   73.425000  196.125000   \n",
       "max       8.000000  450.000000  138.700000   79.900000  224.500000   \n",
       "\n",
       "       Curb_weight  Fuel_capacity  Fuel_efficiency  Power_perf_factor  \n",
       "count   155.000000     156.000000       154.000000         155.000000  \n",
       "mean      3.378026      17.951923        23.844156          77.043591  \n",
       "std       0.630502       3.887921         4.282706          25.142664  \n",
       "min       1.895000      10.300000        15.000000          23.276272  \n",
       "25%       2.971000      15.800000        21.000000          60.407707  \n",
       "50%       3.342000      17.200000        24.000000          72.030917  \n",
       "75%       3.799500      19.575000        26.000000          89.414878  \n",
       "max       5.572000      32.000000        45.000000         188.144323  "
      ]
     },
     "execution_count": 3,
     "metadata": {},
     "output_type": "execute_result"
    }
   ],
   "source": [
    "# summay statistics\n",
    "df.describe() "
   ]
  },
  {
   "cell_type": "code",
   "execution_count": 4,
   "id": "785a97f6",
   "metadata": {},
   "outputs": [
    {
     "data": {
      "text/plain": [
       "Manufacturer            0\n",
       "Model                   0\n",
       "Sales_in_thousands      0\n",
       "__year_resale_value    36\n",
       "Vehicle_type            0\n",
       "Price_in_thousands      2\n",
       "Engine_size             1\n",
       "Horsepower              1\n",
       "Wheelbase               1\n",
       "Width                   1\n",
       "Length                  1\n",
       "Curb_weight             2\n",
       "Fuel_capacity           1\n",
       "Fuel_efficiency         3\n",
       "Latest_Launch           0\n",
       "Power_perf_factor       2\n",
       "dtype: int64"
      ]
     },
     "execution_count": 4,
     "metadata": {},
     "output_type": "execute_result"
    }
   ],
   "source": [
    "# missing values\n",
    "df.isnull().sum() "
   ]
  },
  {
   "cell_type": "code",
   "execution_count": 6,
   "id": "d7968c72",
   "metadata": {},
   "outputs": [],
   "source": [
    "#drop the missing values\n",
    "df.dropna(inplace=True)\n",
    "\n",
    "#drop the rows where missing columns \n",
    "df.dropna(subset=['Manufacturer'],inplace=True)"
   ]
  },
  {
   "cell_type": "code",
   "execution_count": 9,
   "id": "fbd1bbbf",
   "metadata": {},
   "outputs": [
    {
     "data": {
      "text/plain": [
       "0      False\n",
       "1      False\n",
       "3      False\n",
       "4      False\n",
       "5      False\n",
       "       ...  \n",
       "145    False\n",
       "146    False\n",
       "147    False\n",
       "148    False\n",
       "149    False\n",
       "Length: 117, dtype: bool"
      ]
     },
     "execution_count": 9,
     "metadata": {},
     "output_type": "execute_result"
    }
   ],
   "source": [
    "# find dublicates values\n",
    "df.duplicated()"
   ]
  },
  {
   "cell_type": "markdown",
   "id": "0dca2e55",
   "metadata": {},
   "source": [
    "___"
   ]
  },
  {
   "cell_type": "markdown",
   "id": "2d11c84e",
   "metadata": {},
   "source": [
    "## QUESTION_01"
   ]
  },
  {
   "cell_type": "code",
   "execution_count": 12,
   "id": "b8475e15",
   "metadata": {},
   "outputs": [
    {
     "data": {
      "text/plain": [
       "Manufacturer            object\n",
       "Model                   object\n",
       "Sales_in_thousands     float64\n",
       "__year_resale_value    float64\n",
       "Vehicle_type            object\n",
       "Price_in_thousands     float64\n",
       "Engine_size            float64\n",
       "Horsepower             float64\n",
       "Wheelbase              float64\n",
       "Width                  float64\n",
       "Length                 float64\n",
       "Curb_weight            float64\n",
       "Fuel_capacity          float64\n",
       "Fuel_efficiency        float64\n",
       "Latest_Launch           object\n",
       "Power_perf_factor      float64\n",
       "dtype: object"
      ]
     },
     "execution_count": 12,
     "metadata": {},
     "output_type": "execute_result"
    }
   ],
   "source": [
    "df.dtypes "
   ]
  },
  {
   "cell_type": "markdown",
   "id": "39186e75",
   "metadata": {},
   "source": [
    "---"
   ]
  },
  {
   "cell_type": "markdown",
   "id": "74f6e58d",
   "metadata": {},
   "source": [
    "## QUESTION_02"
   ]
  },
  {
   "cell_type": "code",
   "execution_count": 20,
   "id": "2ab45d0a",
   "metadata": {
    "scrolled": true
   },
   "outputs": [
    {
     "data": {
      "image/png": "[encoded data removed]",
      "text/plain": [
       "<Figure size 432x288 with 1 Axes>"
      ]
     },
     "metadata": {
      "needs_background": "light"
     },
     "output_type": "display_data"
    }
   ],
   "source": [
    "\n",
    "# Get counts of each manufacturer\n",
    "manufacturers = df['Manufacturer']. value_counts()\n",
    "\n",
    "# Plot bar graph\n",
    "plt.bar(manufacturers.index, manufacturers)\n",
    "\n",
    "# add labels and title\n",
    "plt.title('Vehicle Sales by Manufacturer')\n",
    "plt.ylabel('Number of vehicles')\n",
    "plt.xlabel('Manufacturer')\n",
    "\n",
    "# save the plot\n",
    "plt.savefig('manufacturer_bar.png')\n",
    "\n",
    "#show plot\n",
    "plt.show()\n"
   ]
  },
  {
   "cell_type": "markdown",
   "id": "251e8771",
   "metadata": {},
   "source": [
    "---"
   ]
  },
  {
   "cell_type": "markdown",
   "id": "572f6b39",
   "metadata": {},
   "source": [
    "## QUESTION_03"
   ]
  },
  {
   "cell_type": "code",
   "execution_count": 28,
   "id": "17e5d1c2",
   "metadata": {
    "scrolled": true
   },
   "outputs": [
    {
     "data": {
      "image/png": "[encoded data removed]",
      "text/plain": [
       "<Figure size 432x288 with 1 Axes>"
      ]
     },
     "metadata": {},
     "output_type": "display_data"
    }
   ],
   "source": [
    "\n",
    "# get count of each vehicle type\n",
    "vehicle_counts = df['Vehicle_type'].value_counts()\n",
    "\n",
    "#calculate percentage\n",
    "vehicle_percent = (vehicle_counts/vehicle_counts.sum()).round(2)*100\n",
    "\n",
    "#plot pie chart\n",
    "labels = vehicle_percent.index\n",
    "sizes = vehicle_percent\n",
    "explode = [0]*len(labels)\n",
    "explode[1]=0.1\n",
    "\n",
    "fig1, ax1 = plt.subplots()\n",
    "ax1 .pie(sizes, explode=explode , labels=labels, autopct='%1.1f%%', shadow=True, startangle=90)\n",
    "\n",
    "#draw the circle\n",
    "centre_circle = plt.Circle((0,0),0.70,fc = 'white')\n",
    "fig= plt.gcf()\n",
    "fig.gca().add_artist(centre_circle)\n",
    "\n",
    "#Add title\n",
    "plt.title('Vehicle sales by type')\n",
    "plt.show()"
   ]
  },
  {
   "cell_type": "markdown",
   "id": "d1affdd4",
   "metadata": {},
   "source": [
    "---"
   ]
  },
  {
   "cell_type": "markdown",
   "id": "1ed0eafd",
   "metadata": {},
   "source": [
    "## QUESTION_04"
   ]
  },
  {
   "cell_type": "code",
   "execution_count": 30,
   "id": "a932bcf5",
   "metadata": {
    "scrolled": true
   },
   "outputs": [
    {
     "name": "stdout",
     "output_type": "stream",
     "text": [
      "Average Price(mean): $25.97\n"
     ]
    }
   ],
   "source": [
    "# Calculate the mean price\n",
    "mean = df['Price_in_thousands'].mean()\n",
    "print(f\"Average Price(mean): ${mean:,.2f}\")"
   ]
  },
  {
   "cell_type": "markdown",
   "id": "77c759ce",
   "metadata": {},
   "source": [
    "---"
   ]
  },
  {
   "cell_type": "markdown",
   "id": "02962bec",
   "metadata": {},
   "source": [
    "## QUESTION_05"
   ]
  },
  {
   "cell_type": "code",
   "execution_count": 40,
   "id": "88b2f130",
   "metadata": {
    "scrolled": true
   },
   "outputs": [
    {
     "name": "stdout",
     "output_type": "stream",
     "text": [
      "Variance:\n",
      "Sales_in_thousands     5633.843458\n",
      "__year_resale_value     134.690698\n",
      "Price_in_thousands      200.213992\n",
      "Engine_size               1.113382\n",
      "Horsepower             3432.997347\n",
      "dtype: float64\n",
      "Standard Deviation:\n",
      "Sales_in_thousands     75.058933\n",
      "__year_resale_value    11.605632\n",
      "Price_in_thousands     14.149699\n",
      "Engine_size             1.055169\n",
      "Horsepower             58.591786\n",
      "dtype: float64\n"
     ]
    }
   ],
   "source": [
    "# Numeric columns to analyze\n",
    "col_name =  ['Sales_in_thousands', '__year_resale_value', 'Price_in_thousands', 'Engine_size', 'Horsepower']\n",
    "\n",
    "#calculate varience\n",
    "var= df[col_name].var()\n",
    "\n",
    "#calculate std\n",
    "std= df[col_name].std()\n",
    "\n",
    "print(f\"Variance:\\n{var}\" )\n",
    "print(f\"Standard Deviation:\\n{std}\" )"
   ]
  },
  {
   "cell_type": "markdown",
   "id": "6b498896",
   "metadata": {},
   "source": [
    "---"
   ]
  },
  {
   "cell_type": "markdown",
   "id": "9660ca94",
   "metadata": {},
   "source": [
    "## QUESTION_06"
   ]
  },
  {
   "cell_type": "code",
   "execution_count": 45,
   "id": "0f64185a",
   "metadata": {},
   "outputs": [
    {
     "name": "stdout",
     "output_type": "stream",
     "text": [
      "IQR for Horsepower:70.0\n",
      "Number of outlier in Horsepower:113\n"
     ]
    }
   ],
   "source": [
    "# columns\n",
    "numeric_cols = ['Sales_in_thousands', '__year_resale_value', 'Price_in_thousands', 'Engine_size', 'Horsepower']\n",
    "for col in numeric_cols:\n",
    "    q1 = df[col].quantile(0.25)\n",
    "    q3 = df[col].quantile(0.75)\n",
    "    iqr = q3 -q1\n",
    "    \n",
    "# outlier boundries\n",
    "lower_bound = q1 - 1.5 * iqr\n",
    "Upper_bound = q3 - 1.5 * iqr\n",
    "\n",
    "# identify outlier\n",
    "outliers = df[(df[col]<lower_bound)| (df[col]>Upper_bound)]\n",
    "\n",
    "print(f\"IQR for {col}:{iqr}\")\n",
    "print(f\"Number of outlier in {col}:{outliers.shape[0]}\")"
   ]
  },
  {
   "cell_type": "markdown",
   "id": "d02a12e4",
   "metadata": {},
   "source": [
    "---"
   ]
  },
  {
   "cell_type": "markdown",
   "id": "1a7d2c68",
   "metadata": {},
   "source": [
    "## QUESTION_07"
   ]
  },
  {
   "cell_type": "code",
   "execution_count": 55,
   "id": "fcf4cd6a",
   "metadata": {},
   "outputs": [
    {
     "name": "stdout",
     "output_type": "stream",
     "text": [
      "Skewness for Curb_weight is 0.20582173273027804\n",
      "Curb_weightis skewed right\n"
     ]
    }
   ],
   "source": [
    "# defining col\n",
    "\n",
    "numeric_cols = ['Sales_in_thousands', '__year_resale_value', 'Price_in_thousands', 'Engine_size', 'Horsepower','Wheelbase','Width','Fuel_efficiency','Curb_weight']\n",
    "\n",
    "for col in numeric_cols:\n",
    "    # histogram\n",
    "    plt.hist(df[col])\n",
    "    plt.title(col)\n",
    "    plt.close()\n",
    "    \n",
    "#skewness\n",
    "skew = stats.skew(df[col])\n",
    "print(f'Skewness for {col} is {skew}')\n",
    "\n",
    "if skew==0:\n",
    "    print(f'{col} has a symmetical distribution')\n",
    "elif skew<0:\n",
    "    print(f'{col} is skewed left')\n",
    "else:\n",
    "    print(f'{col}is skewed right')"
   ]
  }
 ],
 "metadata": {
  "kernelspec": {
   "display_name": "Python 3 (ipykernel)",
   "language": "python",
   "name": "python3"
  },
  "language_info": {
   "codemirror_mode": {
    "name": "ipython",
    "version": 3
   },
   "file_extension": ".py",
   "mimetype": "text/x-python",
   "name": "python",
   "nbconvert_exporter": "python",
   "pygments_lexer": "ipython3",
   "version": "3.9.12"
  }
 },
 "nbformat": 4,
 "nbformat_minor": 5
}
