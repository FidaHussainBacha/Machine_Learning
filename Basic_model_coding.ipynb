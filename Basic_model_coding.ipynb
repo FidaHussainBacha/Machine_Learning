{
 "cells": [
  {
   "cell_type": "markdown",
   "metadata": {},
   "source": [
    "## Model Notebook for Coding in SK-LEARN"
   ]
  },
  {
   "cell_type": "code",
   "execution_count": 1,
   "metadata": {},
   "outputs": [],
   "source": [
    "#import libaraies\n",
    "import pandas as pd\n",
    "import numpy as np\n",
    "import matplotlib.pyplot as plt\n",
    "import seaborn as sns\n",
    "from sklearn.model_selection import train_test_split\n",
    "from sklearn.preprocessing import StandardScaler, LabelEncoder\n",
    "from sklearn.linear_model import LinearRegression"
   ]
  },
  {
   "cell_type": "code",
   "execution_count": 3,
   "metadata": {},
   "outputs": [
    {
     "data": {
      "text/html": [
       "<div>\n",
       "<style scoped>\n",
       "    .dataframe tbody tr th:only-of-type {\n",
       "        vertical-align: middle;\n",
       "    }\n",
       "\n",
       "    .dataframe tbody tr th {\n",
       "        vertical-align: top;\n",
       "    }\n",
       "\n",
       "    .dataframe thead th {\n",
       "        text-align: right;\n",
       "    }\n",
       "</style>\n",
       "<table border=\"1\" class=\"dataframe\">\n",
       "  <thead>\n",
       "    <tr style=\"text-align: right;\">\n",
       "      <th></th>\n",
       "      <th>total_bill</th>\n",
       "      <th>tip</th>\n",
       "      <th>sex</th>\n",
       "      <th>smoker</th>\n",
       "      <th>day</th>\n",
       "      <th>time</th>\n",
       "      <th>size</th>\n",
       "    </tr>\n",
       "  </thead>\n",
       "  <tbody>\n",
       "    <tr>\n",
       "      <th>0</th>\n",
       "      <td>16.99</td>\n",
       "      <td>1.01</td>\n",
       "      <td>Female</td>\n",
       "      <td>No</td>\n",
       "      <td>Sun</td>\n",
       "      <td>Dinner</td>\n",
       "      <td>2</td>\n",
       "    </tr>\n",
       "    <tr>\n",
       "      <th>1</th>\n",
       "      <td>10.34</td>\n",
       "      <td>1.66</td>\n",
       "      <td>Male</td>\n",
       "      <td>No</td>\n",
       "      <td>Sun</td>\n",
       "      <td>Dinner</td>\n",
       "      <td>3</td>\n",
       "    </tr>\n",
       "    <tr>\n",
       "      <th>2</th>\n",
       "      <td>21.01</td>\n",
       "      <td>3.50</td>\n",
       "      <td>Male</td>\n",
       "      <td>No</td>\n",
       "      <td>Sun</td>\n",
       "      <td>Dinner</td>\n",
       "      <td>3</td>\n",
       "    </tr>\n",
       "    <tr>\n",
       "      <th>3</th>\n",
       "      <td>23.68</td>\n",
       "      <td>3.31</td>\n",
       "      <td>Male</td>\n",
       "      <td>No</td>\n",
       "      <td>Sun</td>\n",
       "      <td>Dinner</td>\n",
       "      <td>2</td>\n",
       "    </tr>\n",
       "    <tr>\n",
       "      <th>4</th>\n",
       "      <td>24.59</td>\n",
       "      <td>3.61</td>\n",
       "      <td>Female</td>\n",
       "      <td>No</td>\n",
       "      <td>Sun</td>\n",
       "      <td>Dinner</td>\n",
       "      <td>4</td>\n",
       "    </tr>\n",
       "  </tbody>\n",
       "</table>\n",
       "</div>"
      ],
      "text/plain": [
       "   total_bill   tip     sex smoker  day    time  size\n",
       "0       16.99  1.01  Female     No  Sun  Dinner     2\n",
       "1       10.34  1.66    Male     No  Sun  Dinner     3\n",
       "2       21.01  3.50    Male     No  Sun  Dinner     3\n",
       "3       23.68  3.31    Male     No  Sun  Dinner     2\n",
       "4       24.59  3.61  Female     No  Sun  Dinner     4"
      ]
     },
     "execution_count": 3,
     "metadata": {},
     "output_type": "execute_result"
    }
   ],
   "source": [
    "# Load dataset\n",
    "df = sns.load_dataset('tips')\n",
    "df.head()"
   ]
  },
  {
   "cell_type": "code",
   "execution_count": 8,
   "metadata": {},
   "outputs": [],
   "source": [
    "#Seprate the features(x) and labels/target(y)\n",
    "x = df[['total_bill']]          # x is alawys be doble dimension\n",
    "y= df['tip']"
   ]
  },
  {
   "cell_type": "code",
   "execution_count": 9,
   "metadata": {},
   "outputs": [],
   "source": [
    "# train test split the data\n",
    "x_train,x_test,y_train,y_test = train_test_split(x,y,train_size=0.8)\n"
   ]
  },
  {
   "cell_type": "code",
   "execution_count": 21,
   "metadata": {},
   "outputs": [],
   "source": [
    " # Preprocess the data\n",
    "scalar = StandardScaler()\n",
    "x_train = scalar.fit_transform(x_train)\n",
    "x_test = scalar.fit_transform(x_test)"
   ]
  },
  {
   "cell_type": "code",
   "execution_count": 22,
   "metadata": {},
   "outputs": [
    {
     "data": {
      "text/plain": [
       "array([[ 2.40702007],\n",
       "       [-0.48442015],\n",
       "       [ 1.16911172],\n",
       "       [ 1.19823898],\n",
       "       [-0.93589261],\n",
       "       [-0.90900591],\n",
       "       [-0.55163689],\n",
       "       [ 0.14629695],\n",
       "       [-1.25405186],\n",
       "       [ 0.51150792],\n",
       "       [ 0.83750913],\n",
       "       [-0.3802342 ],\n",
       "       [ 0.10596691],\n",
       "       [-0.20323011],\n",
       "       [-0.66030396],\n",
       "       [ 1.63514781],\n",
       "       [-1.04904079],\n",
       "       [ 0.8016602 ],\n",
       "       [-0.5460355 ],\n",
       "       [ 0.11828998],\n",
       "       [ 1.47046679],\n",
       "       [-1.27197632],\n",
       "       [-0.36679085],\n",
       "       [ 0.282971  ],\n",
       "       [-0.0699169 ],\n",
       "       [-0.71967875],\n",
       "       [-0.25140211],\n",
       "       [ 2.05749301],\n",
       "       [-1.02999605],\n",
       "       [-0.34998666],\n",
       "       [ 0.48798206],\n",
       "       [ 0.042111  ],\n",
       "       [-1.07928832],\n",
       "       [-0.63901866],\n",
       "       [ 2.13143142],\n",
       "       [-1.11177642],\n",
       "       [-0.19986927],\n",
       "       [-1.2249246 ],\n",
       "       [ 0.08356133],\n",
       "       [ 2.29275161],\n",
       "       [ 0.08804244],\n",
       "       [ 0.54735685],\n",
       "       [ 0.44541146],\n",
       "       [ 2.33532221],\n",
       "       [ 2.75542685],\n",
       "       [-1.36047836],\n",
       "       [ 0.22359621],\n",
       "       [-0.85971363],\n",
       "       [ 0.06563686],\n",
       "       [-0.70399484],\n",
       "       [-0.006061  ],\n",
       "       [ 0.27064793],\n",
       "       [-0.70399484],\n",
       "       [ 0.34234579],\n",
       "       [ 0.47565899],\n",
       "       [-0.78913605],\n",
       "       [-0.32309997],\n",
       "       [-0.38471531],\n",
       "       [-0.19986927],\n",
       "       [-0.81154163],\n",
       "       [-0.86083391],\n",
       "       [-1.56324887],\n",
       "       [ 0.34906746],\n",
       "       [ 0.97866429],\n",
       "       [-0.75104656],\n",
       "       [-0.62221447],\n",
       "       [-0.60429001],\n",
       "       [-0.16402034],\n",
       "       [ 1.69228204],\n",
       "       [-0.79585773],\n",
       "       [ 1.13102224],\n",
       "       [-1.36607976],\n",
       "       [-0.46761596],\n",
       "       [-0.72079903],\n",
       "       [-0.78017382],\n",
       "       [ 0.62577639],\n",
       "       [ 3.20017764],\n",
       "       [ 1.13662363],\n",
       "       [-0.25028183],\n",
       "       [ 2.20873068],\n",
       "       [-0.48666071],\n",
       "       [-1.39520702],\n",
       "       [-1.04904079],\n",
       "       [-1.25293158],\n",
       "       [-0.21107206],\n",
       "       [-0.6098914 ],\n",
       "       [ 0.99098736],\n",
       "       [-0.75104656],\n",
       "       [-0.74768573],\n",
       "       [ 0.61681415],\n",
       "       [ 0.05891519],\n",
       "       [ 3.18897485],\n",
       "       [ 2.87305615],\n",
       "       [ 0.01298375],\n",
       "       [-1.02103381],\n",
       "       [ 0.16310114],\n",
       "       [-0.80930107],\n",
       "       [-1.86348366],\n",
       "       [-0.02398546],\n",
       "       [ 0.67282811],\n",
       "       [-0.95605763],\n",
       "       [-1.13754283],\n",
       "       [ 1.04476075],\n",
       "       [-0.15841895],\n",
       "       [ 0.94617619],\n",
       "       [-0.27380769],\n",
       "       [-0.15169727],\n",
       "       [-0.73648294],\n",
       "       [-0.21555318],\n",
       "       [ 1.4536626 ],\n",
       "       [-0.70399484],\n",
       "       [-0.52587047],\n",
       "       [-0.30629578],\n",
       "       [ 0.59328829],\n",
       "       [-0.26820629],\n",
       "       [-0.29509299],\n",
       "       [ 0.62465611],\n",
       "       [ 1.36067944],\n",
       "       [ 0.84871192],\n",
       "       [-0.63117671],\n",
       "       [ 0.11044802],\n",
       "       [-0.11360779],\n",
       "       [ 1.47830874],\n",
       "       [-0.30405522],\n",
       "       [-0.97286181],\n",
       "       [-0.15841895],\n",
       "       [-0.93253177],\n",
       "       [-1.0165527 ],\n",
       "       [ 0.49022262],\n",
       "       [ 0.83974968],\n",
       "       [-0.78577521],\n",
       "       [-0.10352527],\n",
       "       [ 0.3042563 ],\n",
       "       [ 0.0633963 ],\n",
       "       [ 1.34499553],\n",
       "       [ 0.14629695],\n",
       "       [ 0.38043527],\n",
       "       [ 1.03803907],\n",
       "       [ 0.80390075],\n",
       "       [ 0.54287574],\n",
       "       [-0.39143699],\n",
       "       [-0.76224935],\n",
       "       [-0.41048173],\n",
       "       [ 0.65602392],\n",
       "       [-0.36455029],\n",
       "       [ 0.31209825],\n",
       "       [-1.34031334],\n",
       "       [-0.41720341],\n",
       "       [-0.8025794 ],\n",
       "       [-0.27044685],\n",
       "       [ 0.34122551],\n",
       "       [-0.64574033],\n",
       "       [ 1.67435757],\n",
       "       [-0.23683848],\n",
       "       [-0.4496915 ],\n",
       "       [ 0.94841675],\n",
       "       [ 3.20689931],\n",
       "       [-0.15953923],\n",
       "       [-0.47321736],\n",
       "       [ 0.5395149 ],\n",
       "       [ 1.29570326],\n",
       "       [-0.52026908],\n",
       "       [-0.34102443],\n",
       "       [-0.44072927],\n",
       "       [-1.07704777],\n",
       "       [-0.52250964],\n",
       "       [-0.24580071],\n",
       "       [ 0.8229455 ],\n",
       "       [ 0.69299313],\n",
       "       [-1.05464218],\n",
       "       [ 2.05077133],\n",
       "       [-0.42056424],\n",
       "       [-0.84515   ],\n",
       "       [ 0.77141266],\n",
       "       [-0.94821568],\n",
       "       [ 1.20496065],\n",
       "       [-0.16177978],\n",
       "       [-0.37015169],\n",
       "       [-0.83394721],\n",
       "       [ 0.01186347],\n",
       "       [-0.81490247],\n",
       "       [ 1.67211702],\n",
       "       [-1.05016107],\n",
       "       [-0.17410285],\n",
       "       [ 0.13621444],\n",
       "       [-0.4496915 ],\n",
       "       [-0.38247476],\n",
       "       [ 0.13397388],\n",
       "       [-1.12297921],\n",
       "       [-1.13194144],\n",
       "       [-1.2462099 ],\n",
       "       [-1.39520702],\n",
       "       [-1.01431214],\n",
       "       [-0.47993903],\n",
       "       [-1.00086879]])"
      ]
     },
     "execution_count": 22,
     "metadata": {},
     "output_type": "execute_result"
    }
   ],
   "source": [
    "x_train"
   ]
  },
  {
   "cell_type": "code",
   "execution_count": 23,
   "metadata": {},
   "outputs": [
    {
     "data": {
      "text/html": [
       "<style>#sk-container-id-3 {color: black;}#sk-container-id-3 pre{padding: 0;}#sk-container-id-3 div.sk-toggleable {background-color: white;}#sk-container-id-3 label.sk-toggleable__label {cursor: pointer;display: block;width: 100%;margin-bottom: 0;padding: 0.3em;box-sizing: border-box;text-align: center;}#sk-container-id-3 label.sk-toggleable__label-arrow:before {content: \"▸\";float: left;margin-right: 0.25em;color: #696969;}#sk-container-id-3 label.sk-toggleable__label-arrow:hover:before {color: black;}#sk-container-id-3 div.sk-estimator:hover label.sk-toggleable__label-arrow:before {color: black;}#sk-container-id-3 div.sk-toggleable__content {max-height: 0;max-width: 0;overflow: hidden;text-align: left;background-color: #f0f8ff;}#sk-container-id-3 div.sk-toggleable__content pre {margin: 0.2em;color: black;border-radius: 0.25em;background-color: #f0f8ff;}#sk-container-id-3 input.sk-toggleable__control:checked~div.sk-toggleable__content {max-height: 200px;max-width: 100%;overflow: auto;}#sk-container-id-3 input.sk-toggleable__control:checked~label.sk-toggleable__label-arrow:before {content: \"▾\";}#sk-container-id-3 div.sk-estimator input.sk-toggleable__control:checked~label.sk-toggleable__label {background-color: #d4ebff;}#sk-container-id-3 div.sk-label input.sk-toggleable__control:checked~label.sk-toggleable__label {background-color: #d4ebff;}#sk-container-id-3 input.sk-hidden--visually {border: 0;clip: rect(1px 1px 1px 1px);clip: rect(1px, 1px, 1px, 1px);height: 1px;margin: -1px;overflow: hidden;padding: 0;position: absolute;width: 1px;}#sk-container-id-3 div.sk-estimator {font-family: monospace;background-color: #f0f8ff;border: 1px dotted black;border-radius: 0.25em;box-sizing: border-box;margin-bottom: 0.5em;}#sk-container-id-3 div.sk-estimator:hover {background-color: #d4ebff;}#sk-container-id-3 div.sk-parallel-item::after {content: \"\";width: 100%;border-bottom: 1px solid gray;flex-grow: 1;}#sk-container-id-3 div.sk-label:hover label.sk-toggleable__label {background-color: #d4ebff;}#sk-container-id-3 div.sk-serial::before {content: \"\";position: absolute;border-left: 1px solid gray;box-sizing: border-box;top: 0;bottom: 0;left: 50%;z-index: 0;}#sk-container-id-3 div.sk-serial {display: flex;flex-direction: column;align-items: center;background-color: white;padding-right: 0.2em;padding-left: 0.2em;position: relative;}#sk-container-id-3 div.sk-item {position: relative;z-index: 1;}#sk-container-id-3 div.sk-parallel {display: flex;align-items: stretch;justify-content: center;background-color: white;position: relative;}#sk-container-id-3 div.sk-item::before, #sk-container-id-3 div.sk-parallel-item::before {content: \"\";position: absolute;border-left: 1px solid gray;box-sizing: border-box;top: 0;bottom: 0;left: 50%;z-index: -1;}#sk-container-id-3 div.sk-parallel-item {display: flex;flex-direction: column;z-index: 1;position: relative;background-color: white;}#sk-container-id-3 div.sk-parallel-item:first-child::after {align-self: flex-end;width: 50%;}#sk-container-id-3 div.sk-parallel-item:last-child::after {align-self: flex-start;width: 50%;}#sk-container-id-3 div.sk-parallel-item:only-child::after {width: 0;}#sk-container-id-3 div.sk-dashed-wrapped {border: 1px dashed gray;margin: 0 0.4em 0.5em 0.4em;box-sizing: border-box;padding-bottom: 0.4em;background-color: white;}#sk-container-id-3 div.sk-label label {font-family: monospace;font-weight: bold;display: inline-block;line-height: 1.2em;}#sk-container-id-3 div.sk-label-container {text-align: center;}#sk-container-id-3 div.sk-container {/* jupyter's `normalize.less` sets `[hidden] { display: none; }` but bootstrap.min.css set `[hidden] { display: none !important; }` so we also need the `!important` here to be able to override the default hidden behavior on the sphinx rendered scikit-learn.org. See: https://github.com/scikit-learn/scikit-learn/issues/21755 */display: inline-block !important;position: relative;}#sk-container-id-3 div.sk-text-repr-fallback {display: none;}</style><div id=\"sk-container-id-3\" class=\"sk-top-container\"><div class=\"sk-text-repr-fallback\"><pre>LinearRegression()</pre><b>In a Jupyter environment, please rerun this cell to show the HTML representation or trust the notebook. <br />On GitHub, the HTML representation is unable to render, please try loading this page with nbviewer.org.</b></div><div class=\"sk-container\" hidden><div class=\"sk-item\"><div class=\"sk-estimator sk-toggleable\"><input class=\"sk-toggleable__control sk-hidden--visually\" id=\"sk-estimator-id-3\" type=\"checkbox\" checked><label for=\"sk-estimator-id-3\" class=\"sk-toggleable__label sk-toggleable__label-arrow\">LinearRegression</label><div class=\"sk-toggleable__content\"><pre>LinearRegression()</pre></div></div></div></div></div>"
      ],
      "text/plain": [
       "LinearRegression()"
      ]
     },
     "execution_count": 23,
     "metadata": {},
     "output_type": "execute_result"
    }
   ],
   "source": [
    "# call the model\n",
    "model = LinearRegression()\n",
    "\n",
    "# train the model\n",
    "model.fit(x_train,y_train)"
   ]
  },
  {
   "cell_type": "code",
   "execution_count": 24,
   "metadata": {},
   "outputs": [],
   "source": [
    "# Prediction\n",
    "y_pred = model.predict(x_test)\n"
   ]
  },
  {
   "cell_type": "code",
   "execution_count": 25,
   "metadata": {},
   "outputs": [
    {
     "data": {
      "text/plain": [
       "array([28.60017157])"
      ]
     },
     "execution_count": 25,
     "metadata": {},
     "output_type": "execute_result"
    }
   ],
   "source": [
    "model.predict([[30]])       ## For checking"
   ]
  },
  {
   "cell_type": "code",
   "execution_count": 26,
   "metadata": {},
   "outputs": [
    {
     "data": {
      "text/plain": [
       "array([3.00981591, 2.97053965, 4.39823173, 2.64061906, 4.44045371,\n",
       "       2.14377436, 2.11824479, 2.40005196, 1.96703118, 2.42459962,\n",
       "       3.2042334 , 3.92986232, 4.49642238, 2.78790503, 5.21125033,\n",
       "       2.23116404, 2.29106033, 2.80852507, 2.9941054 , 3.25332873,\n",
       "       4.15962844, 2.81539842, 3.33580887, 5.96731835, 2.53064553,\n",
       "       2.12610004, 2.72702683, 2.54930175, 2.2704403 , 1.99256075,\n",
       "       3.57146644, 2.33426422, 2.30480703, 3.08935034, 2.40397958,\n",
       "       2.59545136, 1.98666931, 3.40454233, 1.9542664 , 3.91709753,\n",
       "       3.09720559, 2.29302415, 2.58072276, 2.54733794, 2.74961068,\n",
       "       2.88707759, 2.59741517, 3.26903923, 2.91948051])"
      ]
     },
     "execution_count": 26,
     "metadata": {},
     "output_type": "execute_result"
    }
   ],
   "source": [
    "y_pred"
   ]
  },
  {
   "cell_type": "code",
   "execution_count": 27,
   "metadata": {},
   "outputs": [
    {
     "data": {
      "text/plain": [
       "33      2.45\n",
       "21      2.75\n",
       "85      5.17\n",
       "37      3.07\n",
       "11      5.00\n",
       "147     1.63\n",
       "232     3.39\n",
       "177     2.00\n",
       "82      1.83\n",
       "74      2.20\n",
       "241     2.00\n",
       "210     2.00\n",
       "238     4.67\n",
       "13      3.00\n",
       "197     5.00\n",
       "209     2.23\n",
       "26      2.00\n",
       "146     1.36\n",
       "204     4.00\n",
       "183     6.50\n",
       "47      6.00\n",
       "200     4.00\n",
       "230     2.00\n",
       "170    10.00\n",
       "171     3.16\n",
       "120     2.31\n",
       "25      2.34\n",
       "138     2.00\n",
       "139     2.75\n",
       "136     2.00\n",
       "57      1.50\n",
       "163     2.00\n",
       "199     2.00\n",
       "160     3.50\n",
       "127     2.00\n",
       "205     3.23\n",
       "10      1.71\n",
       "88      5.85\n",
       "53      1.56\n",
       "116     5.07\n",
       "15      3.92\n",
       "158     2.61\n",
       "93      4.30\n",
       "84      2.03\n",
       "49      3.00\n",
       "80      3.00\n",
       "159     2.00\n",
       "181     5.65\n",
       "154     2.00\n",
       "Name: tip, dtype: float64"
      ]
     },
     "execution_count": 27,
     "metadata": {},
     "output_type": "execute_result"
    }
   ],
   "source": [
    "y_test"
   ]
  },
  {
   "cell_type": "code",
   "execution_count": 29,
   "metadata": {},
   "outputs": [
    {
     "name": "stdout",
     "output_type": "stream",
     "text": [
      "MSE:  1.4339505103079944\n",
      "R2:  0.48422404648241646\n"
     ]
    }
   ],
   "source": [
    "# Evaluate the model\n",
    "from sklearn.metrics import mean_squared_error, r2_score\n",
    "print('MSE: ', mean_squared_error(y_test, y_pred))\n",
    "print('R2: ', r2_score(y_test, y_pred))"
   ]
  },
  {
   "cell_type": "markdown",
   "metadata": {},
   "source": [
    "### `Save and load the Model`"
   ]
  },
  {
   "cell_type": "code",
   "execution_count": 35,
   "metadata": {},
   "outputs": [],
   "source": [
    "# save the model\n",
    "import pickle\n",
    "pickle.dump(model, open('model_01.pkl', 'wb'))      # wb= writting binary"
   ]
  },
  {
   "cell_type": "code",
   "execution_count": 37,
   "metadata": {},
   "outputs": [],
   "source": [
    "# Load the model\n",
    "import pickle\n",
    "model_load = pickle.load(open('model_01.pkl', 'rb'))    # rb = read binaray"
   ]
  },
  {
   "cell_type": "code",
   "execution_count": 38,
   "metadata": {},
   "outputs": [
    {
     "data": {
      "text/plain": [
       "array([15.77659861])"
      ]
     },
     "execution_count": 38,
     "metadata": {},
     "output_type": "execute_result"
    }
   ],
   "source": [
    "model_load.predict([[15]])"
   ]
  }
 ],
 "metadata": {
  "kernelspec": {
   "display_name": "python_ml",
   "language": "python",
   "name": "python3"
  },
  "language_info": {
   "codemirror_mode": {
    "name": "ipython",
    "version": 3
   },
   "file_extension": ".py",
   "mimetype": "text/x-python",
   "name": "python",
   "nbconvert_exporter": "python",
   "pygments_lexer": "ipython3",
   "version": "3.11.5"
  }
 },
 "nbformat": 4,
 "nbformat_minor": 2
}
